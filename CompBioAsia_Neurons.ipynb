{
  "nbformat": 4,
  "nbformat_minor": 0,
  "metadata": {
    "colab": {
      "name": "CompBioAsia_Neurons.ipynb",
      "provenance": [],
      "collapsed_sections": [],
      "authorship_tag": "ABX9TyNoQ5t9UYJzyfdPtcpqWByP",
      "include_colab_link": true
    },
    "kernelspec": {
      "name": "python3",
      "display_name": "Python 3"
    },
    "language_info": {
      "name": "python"
    }
  },
  "cells": [
    {
      "cell_type": "markdown",
      "metadata": {
        "id": "view-in-github",
        "colab_type": "text"
      },
      "source": [
        "<a href=\"https://colab.research.google.com/github/DanielOlson/CompBioAsia/blob/main/CompBioAsia_Neurons.ipynb\" target=\"_parent\"><img src=\"https://colab.research.google.com/assets/colab-badge.svg\" alt=\"Open In Colab\"/></a>"
      ]
    },
    {
      "cell_type": "markdown",
      "source": [
        "# Neruons and small networks\n",
        "In this notebook we're going to be playing with small collections of neurons using hand picked weights. Our big goal here is to gain an intution of the sorts of things that are possible with neural networks."
      ],
      "metadata": {
        "id": "i0kr7mxEjduy"
      }
    },
    {
      "cell_type": "markdown",
      "source": [
        "## Setup:\n",
        "There's nothing that you need to do in this section except run each cell once. Running these cells installs and imports needed libraries and gives us foundational classes for our later code. Don't worry about understanding (or even reading) this section - important parts will be explained later!"
      ],
      "metadata": {
        "id": "0WePrieBkIMA"
      }
    },
    {
      "cell_type": "code",
      "execution_count": null,
      "metadata": {
        "id": "YrYlhsrwjW6w"
      },
      "outputs": [],
      "source": [
        "# To run cells, just press the play button to the left\n",
        "# This cell will import some basic tools that we will find useful later!\n",
        "\n",
        "!pip3 install graphviz\n",
        "import torch\n",
        "import torch.nn as nn\n",
        "import matplotlib.pyplot as plt\n",
        "import matplotlib.image as mpimg\n",
        "import graphviz\n",
        "from IPython.display import Image, display\n",
        "from math import tanh"
      ]
    },
    {
      "cell_type": "code",
      "source": [
        "# We include 3 helper classes:\n",
        "#   Neuron (which has a collection of weights, a bias, and an activation)\n",
        "#   NeuronLayer (a collection of neurons)\n",
        "#   NeuralNetwork (a collection of layers)\n",
        "#\n",
        "# NeuralNetwork also contains functions to draw a graph of the network\n",
        "\n",
        "class Neuron(nn.Module):\n",
        "  def __init__(self, \n",
        "               num_weights, \n",
        "               activation=torch.tanh):\n",
        "    \n",
        "    super(Neuron, self).__init__()\n",
        "    self.w = 2 * (torch.rand(num_weights, requires_grad=False) - 0.5)\n",
        "    self.b = 2 * (torch.rand(1, requires_grad=False) - 0.5)\n",
        "    self.activation = activation\n",
        "    self.value = 0\n",
        "\n",
        "  def forward(self, x, train=False):\n",
        "    self.value = float(self.activation(torch.dot(x, self.w) + self.b).detach())\n",
        "    if train:\n",
        "      return self.activation(torch.dot(x, self.w) + self.b)\n",
        "    else:\n",
        "      with torch.no_grad():\n",
        "        return self.activation(torch.dot(x, self.w) + self.b)\n",
        "\n",
        "    \n",
        "\n",
        "class NeuronLayer(nn.Module):\n",
        "  def __init__(self, num_neurons, \n",
        "               weights_per_neuron, \n",
        "               activation=torch.tanh):\n",
        "    super(NeuronLayer, self).__init__()\n",
        "    self.neurons = [Neuron(weights_per_neuron, activation=activation) for _ in range(num_neurons)]\n",
        "  \n",
        "  def forward(self, x, train=False):\n",
        "    output = torch.zeros(len(self.neurons), requires_grad=train)\n",
        "    for i, neuron in enumerate(self.neurons):\n",
        "      output[i] = neuron(x)\n",
        "    return output\n",
        "\n",
        "def value_to_color(value):\n",
        "  if value > 1:\n",
        "    value = 1\n",
        "\n",
        "  elif value < -1:\n",
        "    value = -1\n",
        "  \n",
        "  \n",
        "  if value == 0:\n",
        "    return \"#{:2X}{:2X}{:2X}')\".format(55, 55, 55)\n",
        "\n",
        "  elif value > 0:\n",
        "    value = int(225 * value) + 30\n",
        "    return \"#{:2X}{:2X}{:2X}')\".format(55, 55, value)\n",
        "  \n",
        "  else:\n",
        "    value = int(-225 * value) + 30\n",
        "    return \"#{:2X}{:2X}{:2X}')\".format(value, 55, 55)\n",
        "  #str(red) + \" 1.0 \" + str(blue)\n",
        "\n",
        "\n",
        "class NeuralNetwork(nn.Module):\n",
        "  def __init__(self, num_inputs, layers, activation=torch.tanh):\n",
        "    super(NeuralNetwork, self).__init__()\n",
        "    self.num_inputs = num_inputs\n",
        "    \n",
        "    self.layers = []\n",
        "    for layer in layers:\n",
        "      self.layers.append(NeuronLayer(layer, num_inputs, activation=activation))\n",
        "      num_inputs = layer\n",
        "    self.layers = nn.ModuleList(self.layers)\n",
        "    \n",
        "\n",
        "  def draw_net(self, label_edges = False):\n",
        "    dot = graphviz.Digraph('tmp', format='png')\n",
        "    dot.graph_attr['rankdir'] = 'LR'\n",
        "    dot.graph_attr['dpi'] = '100'\n",
        "   # dot.graph_attr['rank'] = 'same'\n",
        "    edge_num = 0\n",
        "    for i in range(self.num_inputs):\n",
        "      dot.node('-1,'+str(i), 'i,'+str(i), shape='box')\n",
        "\n",
        "\n",
        "    #gross\n",
        "    prev = self.num_inputs\n",
        "    \n",
        "    for i, layer in enumerate(self.layers):\n",
        "      for j, n in enumerate(layer.neurons):\n",
        "        dot.node(str(i)+','+str(j), str(i)+','+str(j))\n",
        "        for w in range(prev):\n",
        "          edge_kwarg = dict()\n",
        "          if label_edges:\n",
        "            edge_kwarg['label']=str(i + 1) + \",\" + str(j + 1) + \",\" + str(w + 1)\n",
        "          if w == int(((prev) / 2.0)):\n",
        "            dot.edge(str(i-1)+','+str(w), str(i)+','+str(j), **edge_kwarg)\n",
        "          else:\n",
        "            dot.edge(str(i-1)+','+str(w), str(i)+','+str(j), constraint='false', **edge_kwarg)\n",
        "              \n",
        "      prev = len(layer.neurons)\n",
        "    dot.render(view=True)\n",
        "    display(Image('tmp.gv.png'))\n",
        "\n",
        "  def forward(self, x, draw=False, train=False):\n",
        "    if draw:\n",
        "      dot = graphviz.Digraph('tmp', format='png')\n",
        "      dot.graph_attr['rankdir'] = 'LR'\n",
        "      dot.graph_attr['dpi'] = '60'\n",
        "      for i in range(self.num_inputs):\n",
        "        dot.node('-1,'+str(i), 'i,'+str(i), shape='box', fontcolor='white',\n",
        "                 style='filled', color = value_to_color(x[i]))\n",
        "    \n",
        "    for layer in self.layers:\n",
        "      x = layer(x, train=train)\n",
        "\n",
        "    if draw:\n",
        "      prev = self.num_inputs\n",
        "      for i, layer in enumerate(self.layers):\n",
        "        for j, n in enumerate(layer.neurons):\n",
        "          dot.node(str(i)+','+str(j), str(i)+','+str(j), fontcolor='white',\n",
        "                 style='filled', color = value_to_color(n.value))\n",
        "          for w in range(prev):\n",
        "            if w == int(((prev) / 2.0)):\n",
        "              dot.edge(str(i-1)+','+str(w), str(i)+','+str(j))\n",
        "            else:\n",
        "              dot.edge(str(i-1)+','+str(w), str(i)+','+str(j), constraint='false')\n",
        "              \n",
        "        prev = len(layer.neurons)\n",
        "      dot.render(view=True)\n",
        "      display(Image('tmp.gv.png'))\n",
        "\n",
        "    return x\n",
        "\n",
        "# Tasks:\n",
        "\n",
        "\n",
        "# comparison task\n",
        "def generate_comparison_data():\n",
        "  return torch.rand(4)\n",
        "def test_comparison_result(input, output):\n",
        "  return ((input[0] + input[1]) - (input[2] + input[3])) * output > 0, ((input[0] + input[1]) - (input[2] + input[3]))\n",
        "\n",
        "\n",
        "# and task\n",
        "def generate_AND_data():\n",
        "  x = torch.randint(0, 2, (2,), dtype=torch.float32)\n",
        "  x[x == 0] = -1.0\n",
        "  return x\n",
        "def test_AND_result(input, output):\n",
        "  if input[0] == 1 and input[1] == 1:\n",
        "    return output > 0, 1\n",
        "  else:\n",
        "    return output < 0, -1\n",
        "\n",
        "# or task\n",
        "def generate_OR_data():\n",
        "  x = torch.randint(0, 2, (2,), dtype=torch.float32)\n",
        "  x[x == 0] = -1.0\n",
        "  return x\n",
        "def test_OR_result(input, output):\n",
        "  if input[0] == 1 or input[1] == 1:\n",
        "    return output > 0, 1\n",
        "  else:\n",
        "    return output < 0, -1\n",
        "\n",
        "# xor task\n",
        "def generate_XOR_data():\n",
        "  x = torch.randint(0, 2, (2,), dtype=torch.float32)\n",
        "  x[x == 0] = -1.0\n",
        "  return x\n",
        "def test_XOR_result(input, output):\n",
        "  if input[0] * input[1] < 0:\n",
        "    return output > 0, 1\n",
        "  else:\n",
        "    return output < 0, -1\n",
        "\n",
        "def test_network(network, generator, tester):\n",
        "  for i in range(100):\n",
        "    input = generator()\n",
        "    out = network(input)\n",
        "    result, expected = tester(input, out)\n",
        "    if not result:\n",
        "      print(\"Failed with input\", input)\n",
        "      print(\"Received output\", out)\n",
        "      network(input, draw=True)\n",
        "      return\n",
        "  print(\"Success!\")\n"
      ],
      "metadata": {
        "id": "qUg64mTFmVIF"
      },
      "execution_count": null,
      "outputs": []
    },
    {
      "cell_type": "markdown",
      "source": [
        "## Simple Neural Networks\n",
        "In the above code I have created a neural network class that allows us to create and edit simple networks. In the cells below we'll take a look at some of the features of that class."
      ],
      "metadata": {
        "id": "eq6O0StjON0J"
      }
    },
    {
      "cell_type": "code",
      "source": [
        "# To create a simple neural network we need to know two things:\n",
        "#   1. How many input features there are\n",
        "#   2. How many layers there will be and how large those layers are.\n",
        "# \n",
        "# Here's an example of how to create a neural network that expects:\n",
        "#   2 input dims, and 2 layers (layer1: 3 dims, layer2: 1 dim)\n",
        "\n",
        "network = NeuralNetwork(2, [3, 1])\n",
        "\n",
        "# We can then visualize our network by using the .draw_net() method.\n",
        "# Box shaped nodes represent inputs, ovals represent neurons\n",
        "\n",
        "network.draw_net()\n"
      ],
      "metadata": {
        "id": "kzEDDtqILUtX"
      },
      "execution_count": null,
      "outputs": []
    },
    {
      "cell_type": "markdown",
      "source": [
        "**Task 1**\n",
        "\n",
        "\n",
        "---\n",
        "\n",
        "\n",
        "Your first task is to create a network with 4 inputs and 3 layers (of sizes 3, 2, 1 respectively). I've put '???' where you should write some code."
      ],
      "metadata": {
        "id": "wxy-B1bXRgAi"
      }
    },
    {
      "cell_type": "code",
      "source": [
        "network = NeuralNetwork(???, ???)\n",
        "network.draw_net()\n"
      ],
      "metadata": {
        "id": "EZYK8GfEQ9za"
      },
      "execution_count": null,
      "outputs": []
    },
    {
      "cell_type": "code",
      "source": [
        "# Initially all the weights and bias for our networks are random values between -1 and 1\n",
        "#\n",
        "# To demonstrate that we're going to pass the value '1' through\n",
        "#   random initializations of a network and see what happens\n",
        "\n",
        "input = torch.ones(1)\n",
        "\n",
        "for _ in range(3):\n",
        "  network = NeuralNetwork(1, [3, 5, 7, 1])\n",
        "  print(network(input))\n",
        "\n",
        "# Even though the input doesn't change in the loop, \n",
        "#   each itteration has a different output because\n",
        "#   each itteration has a network with different weights/biases\n"
      ],
      "metadata": {
        "id": "uX5Vkpw8gbOz"
      },
      "execution_count": null,
      "outputs": []
    },
    {
      "cell_type": "code",
      "source": [
        "# We can visaulize the activation of our neurons by adding\n",
        "#   'draw=True' inside of the call to our network. \n",
        "# Positive activations are blue, and negative activations are red.\n",
        "# The brighter the color, the more activated the neuron is.\n",
        "\n",
        "input = torch.ones(1)\n",
        "\n",
        "for _ in range(3):\n",
        "  network = NeuralNetwork(1, [3, 5, 7, 1])\n",
        "  print(network(input, draw=True))\n",
        "  "
      ],
      "metadata": {
        "id": "l4wItkliih80"
      },
      "execution_count": null,
      "outputs": []
    },
    {
      "cell_type": "code",
      "source": [
        "# Lets create an input of all ones and pass that into \n",
        "# a network that has only 1 neuron\n",
        "\n",
        "input = torch.ones(3)\n",
        "network = NeuralNetwork(3, [1])\n",
        "print(\"Random weights:\")\n",
        "out = network(input, draw=True)\n",
        "\n",
        "# If we wanted all the weights to be zero then we need to \n",
        "# set each weight for each neuron in each layer to 0\n",
        "# Our network only has 1 layer with 1 neuron and 3 weights, so its easy!\n",
        "\n",
        "network.layers[0].neurons[0].w[0] = 0 # set the 0th weight\n",
        "network.layers[0].neurons[0].w[1] = 0 # set the 1st weight\n",
        "network.layers[0].neurons[0].w[2] = 0 # set the 2nd weight\n",
        "network.layers[0].neurons[0].b = 0    # set the bias to 0\n",
        "\n",
        "print(\"Zero weights:\")\n",
        "out = network(input, draw=True)\n",
        "\n",
        "# We can also set the bias of a neuron like so:\n",
        "network.layers[0].neurons[0].b = -1000\n",
        "print(\"Zero weights and negative bias:\")\n",
        "out = network(input, draw=True)\n",
        "\n",
        "\n",
        "network.layers[0].neurons[0].b = 10000\n",
        "print(\"Zero weights and positive bias:\")\n",
        "out = network(input, draw=True)"
      ],
      "metadata": {
        "id": "9x5J0wGBmLIJ"
      },
      "execution_count": null,
      "outputs": []
    },
    {
      "cell_type": "markdown",
      "source": [
        "#### PUZZLES!\n",
        "\n",
        "Below are a number of puzzles that we will solve by creating a network and assigning weights to that network. I've filled out a solution for the first puzzle and its your job to find solutions for the other three."
      ],
      "metadata": {
        "id": "9jdwJ9SoDbjr"
      }
    },
    {
      "cell_type": "markdown",
      "source": [
        "**Puzzle 1: Comparisons**\n",
        "\n",
        "\n",
        "---\n",
        "\n",
        "\n",
        "\n",
        "For this puzzle our network will be given a 4 dimensional input, $x$, and our goal is to create a network that returns a positive value when $(x_0 + x_1) > (x_2 + x_3)$ and return a negative value when $(x_0 + x_1) < (x_2 + x_3)$"
      ],
      "metadata": {
        "id": "d4ChzV1c__aX"
      }
    },
    {
      "cell_type": "code",
      "source": [
        "# Challenge 1: 4 dimensional comparison.\n",
        "\n",
        "# Here we are given a 4 dimensional input. Our goal is to compare\n",
        "# the sum of input[0] + input[1] against the sum of input[2] + input[3] \n",
        "# so that if input[0] + input[1] > input[2] + input[3] the result is positive\n",
        "# and if input[0] + input[1] < input[2] + input[3] the result is negative.\n",
        "\n",
        "network = NeuralNetwork(4, [1])\n",
        "network.draw_net()\n",
        "\n",
        "network.layers[0].neurons[0].w[0] = 1.0\n",
        "network.layers[0].neurons[0].w[1] = 1.0\n",
        "network.layers[0].neurons[0].w[2] = -1.0\n",
        "network.layers[0].neurons[0].w[3] = -1.0\n",
        "network.layers[0].neurons[0].b = 0\n",
        "\n",
        "# Test our network\n",
        "test_network(network, generate_comparison_data, test_comparison_result)\n"
      ],
      "metadata": {
        "id": "rxe7WYJREclZ"
      },
      "execution_count": null,
      "outputs": []
    },
    {
      "cell_type": "code",
      "source": [
        "# Challenge 2: AND circuit\n",
        "\n",
        "# For this puzzle you will be given two dimensional input, and each\n",
        "# dimension will either be -1 or +1. Your goal is to compute a logical AND.\n",
        "# If both dimensions of our input are +1 then our result should be positive.\n",
        "# otherwise, our result should be negative.\n",
        "\n",
        "network = NeuralNetwork(2, [1])\n",
        "network.draw_net()\n",
        "\n",
        "network.layers[0].neurons[0].w[0] = ???\n",
        "network.layers[0].neurons[0].w[1] = ???\n",
        "network.layers[0].neurons[0].b = ???\n",
        "\n",
        "\n",
        "# Test your network\n",
        "test_network(network, generate_AND_data, test_AND_result)"
      ],
      "metadata": {
        "id": "mj0zUjTeG_G8"
      },
      "execution_count": null,
      "outputs": []
    },
    {
      "cell_type": "code",
      "source": [
        "# Challenge 3: OR circuit\n",
        "\n",
        "# For this puzzle you will be given two dimensional input, and each\n",
        "# dimension will either be -1 or 1. Your goal is to compute a logical OR.\n",
        "# If either dimensions of our input are 1 then our result should be positive.\n",
        "# otherwise, our result should be negative.\n",
        "\n",
        "network = NeuralNetwork(2, [1])\n",
        "network.draw_net()\n",
        "\n",
        "network.layers[0].neurons[0].w[0] = ???\n",
        "network.layers[0].neurons[0].w[1] = ???\n",
        "network.layers[0].neurons[0].b = ???\n",
        "\n",
        "\n",
        "# Test your network\n",
        "test_network(network, generate_OR_data, test_OR_result)"
      ],
      "metadata": {
        "id": "5XzWsErxIfLd"
      },
      "execution_count": null,
      "outputs": []
    },
    {
      "cell_type": "code",
      "source": [
        "# Challenge 4: XOR circuit\n",
        "\n",
        "# For this puzzle you will be given two dimensional input, and each\n",
        "# dimension will either be -1 or 1. \n",
        "# Your goal is to compute a logical XOR.\n",
        "# If only 1 dimension of our input is +1 then our result should be positive.\n",
        "# otherwise, our result should be negative.\n",
        "\n",
        "# This is a problem that can (provably) not be solved with only 1 layer.\n",
        "# We'll need a beefier network.\n",
        "\n",
        "network = NeuralNetwork(2, [2, 1])\n",
        "network.draw_net()\n",
        "\n",
        "# Layer 0, neuron 0\n",
        "network.layers[0].neurons[0].w[0] = ???\n",
        "network.layers[0].neurons[0].w[1] = ???\n",
        "network.layers[0].neurons[0].b = ???\n",
        "\n",
        "# Layer 0, neuron 1\n",
        "network.layers[0].neurons[1].w[0] = ???\n",
        "network.layers[0].neurons[1].w[1] = ???\n",
        "network.layers[0].neurons[1].b = ???\n",
        "\n",
        "# Layer 1, neuron 0\n",
        "network.layers[1].neurons[0].w[0] = ???\n",
        "network.layers[1].neurons[0].w[1] = ???\n",
        "network.layers[1].neurons[0].b = ???\n",
        "\n",
        "\n",
        "# Test your network\n",
        "test_network(network, generate_XOR_data, test_XOR_result)"
      ],
      "metadata": {
        "id": "fRCEBS9aIyPA"
      },
      "execution_count": null,
      "outputs": []
    }
  ]
}